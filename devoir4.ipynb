{
 "cells": [
  {
   "cell_type": "markdown",
   "metadata": {},
   "source": [
    "Implémentation du devoir 4\n",
    "\n",
    "Lucca MASI MASL05080300\n",
    "\n",
    "Problématique : comment créer un algorithme de machine learning permettant de prédire le cours des actions?\n",
    "\n",
    "BDD : Sp500 (cour des actions global depuis le 3 Janv 19500 )\n",
    "\n",
    "vidéo explicative : https://youtu.be/p9iXoSNGGj8\n",
    "\n",
    "projet github : https://github.com/unlucky0508/RFC-VS-XGB\n",
    "\n",
    "Courte explication : \n",
    "\n",
    "Tout d'abord on importe et prépare les données puis on les visualises pour comprendre le jeu de donnée. Ensuite on implémente une fonction de prédiction (la ou on va utiliser le modèle pour prédire les années suivantes) et de backtest (comme on utilise des données temporelles, on ne peut pas faire de validation croisée). \n",
    "\n",
    "1er modèle : RandomForestClassifier\n",
    "\n",
    "On commence par déterminer les \"prédicteurs\" puis on appel la fonction de backtest avec notre modèle. on affiche ensuite les métrics du modèle ainsi que le temps d'éxecution pour pouvoir les comparer avec l'autre implémentation.\n",
    "\n",
    "2eme modèle : XGBClassifier  \n",
    "\n",
    "On commence par déterminer les \"prédicteurs\" puis on appel la fonction de backtest avec notre modèle. on affiche ensuite les métrics du modèle ainsi que le temps d'éxecution pour pouvoir les comparer avec l'autre implémentation.\n",
    "\n",
    "\n",
    "Conclusion :\n",
    "\n",
    "La précision des deux algorithme  est très proche. Le premier étant légèrement plus précis mais nécessitant un plus grand temps d'éxecution. Le second modèle, contrairement au premier est  bien plus rapide mais est légèrement moins précis. Dans les deux cas, la précision obtenu est approximativement 51.5% ce qui est assez faible comme résultat. En comparant cette implémentation à d'autre, on se rend compte que cette précision est assez \"normal\" pour ce genre d'algorithme.  Il est rare d'avoir un précision qui dépasse les 60% sur ce genre d'algorithme."
   ]
  },
  {
   "cell_type": "code",
   "execution_count": 28,
   "metadata": {},
   "outputs": [],
   "source": [
    "import yfinance as yf\n",
    "import pandas as pd\n",
    "import os\n",
    "from sklearn.ensemble import RandomForestClassifier\n",
    "from sklearn.metrics import precision_score\n",
    "from sklearn.metrics import accuracy_score\n",
    "\n",
    "from sklearn.metrics import accuracy_score, precision_score, recall_score, f1_score\n",
    "import time\n",
    "import pandas as pd\n",
    "import pandas as pd\n",
    "import xgboost\n",
    "from xgboost import XGBClassifier"
   ]
  },
  {
   "cell_type": "markdown",
   "metadata": {},
   "source": [
    "Préparation des données"
   ]
  },
  {
   "cell_type": "code",
   "execution_count": 29,
   "metadata": {},
   "outputs": [],
   "source": [
    "if os.path.exists(\"sp500.csv\"):\n",
    "    sp500 = pd.read_csv(\"sp500.csv\", index_col=0)\n",
    "else:\n",
    "    sp500 = yf.Ticker(\"^GSPC\")\n",
    "    sp500 = sp500.history(period=\"max\")\n",
    "    sp500.to_csv(\"sp500.csv\")"
   ]
  },
  {
   "cell_type": "code",
   "execution_count": 30,
   "metadata": {},
   "outputs": [
    {
     "data": {
      "text/plain": [
       "<Axes: xlabel='Date'>"
      ]
     },
     "execution_count": 30,
     "metadata": {},
     "output_type": "execute_result"
    },
    {
     "data": {
      "image/png": "[encoded data removed]",
      "text/plain": [
       "<Figure size 640x480 with 1 Axes>"
      ]
     },
     "metadata": {},
     "output_type": "display_data"
    }
   ],
   "source": [
    "sp500.index = pd.to_datetime(sp500.index)\n",
    "sp500.plot.line(y=\"Close\", use_index=True)"
   ]
  },
  {
   "cell_type": "code",
   "execution_count": 31,
   "metadata": {},
   "outputs": [],
   "source": [
    "del sp500[\"Dividends\"]\n",
    "del sp500[\"Stock Splits\"]\n",
    "sp500[\"Tomorrow\"] = sp500[\"Close\"].shift(-1)\n",
    "sp500[\"Target\"] = (sp500[\"Tomorrow\"] > sp500[\"Close\"]).astype(int)\n",
    "sp500 = sp500.loc[\"1990-01-01\":].copy()"
   ]
  },
  {
   "cell_type": "markdown",
   "metadata": {},
   "source": [
    "Fonctions de backtest et de prédictions (on ne peut pas faire de validation croisée car les données sont des données temporelles et le résultat serait  erroné)"
   ]
  },
  {
   "cell_type": "code",
   "execution_count": 32,
   "metadata": {},
   "outputs": [],
   "source": [
    "def predict(train, test, predictors, model):\n",
    "    model.fit(train[predictors], train[\"Target\"])\n",
    "    preds = model.predict_proba(test[predictors])[:,1]\n",
    "    preds[preds >=.6] = 1\n",
    "    preds[preds <.6] = 0\n",
    "    preds = pd.Series(preds, index=test.index, name=\"Predictions\")\n",
    "    combined = pd.concat([test[\"Target\"], preds], axis=1)\n",
    "    return combined\n",
    "\n",
    "def backtest(data, model, predictors, start=2500, step=250):\n",
    "    all_predictions = []\n",
    "\n",
    "    for i in range(start, data.shape[0], step):\n",
    "        train = data.iloc[0:i].copy()\n",
    "        test = data.iloc[i:(i+step)].copy()\n",
    "        predictions = predict(train, test, predictors, model)\n",
    "        all_predictions.append(predictions)\n",
    "    \n",
    "    return pd.concat(all_predictions)"
   ]
  },
  {
   "cell_type": "markdown",
   "metadata": {},
   "source": [
    "Premier modèle : Random forest classifier"
   ]
  },
  {
   "cell_type": "code",
   "execution_count": 33,
   "metadata": {},
   "outputs": [],
   "source": [
    "def model_RFC(sp500):\n",
    "    horizons = [2,5,60,250,1000]\n",
    "    new_predictors = []\n",
    "\n",
    "    for horizon in horizons:\n",
    "        rolling_averages = sp500.rolling(horizon).mean()\n",
    "        \n",
    "        ratio_column = f\"Close_Ratio_{horizon}\"\n",
    "        sp500[ratio_column] = sp500[\"Close\"] / rolling_averages[\"Close\"]\n",
    "        \n",
    "        trend_column = f\"Trend_{horizon}\"\n",
    "        sp500[trend_column] = sp500.shift(1).rolling(horizon).sum()[\"Target\"]\n",
    "        \n",
    "        new_predictors+= [ratio_column, trend_column]\n",
    "    \n",
    "    \n",
    "    sp500 = sp500.dropna(subset=sp500.columns[sp500.columns != \"Tomorrow\"])\n",
    "    model = RandomForestClassifier(n_estimators=200, min_samples_split=50, random_state=1)\n",
    "    time_RFC_start = time.time()\n",
    "    predictions = backtest(sp500, model, new_predictors)\n",
    "    time_RFC_end = time.time() - time_RFC_start\n",
    "    accuracy = accuracy_score(predictions[\"Target\"], predictions[\"Predictions\"])\n",
    "    precision = precision_score(predictions[\"Target\"], predictions[\"Predictions\"], average='weighted')\n",
    "    recall = recall_score(predictions[\"Target\"], predictions[\"Predictions\"], average='weighted')\n",
    "    f1 = f1_score(predictions[\"Target\"], predictions[\"Predictions\"], average='weighted')\n",
    "    print(f\"Exactitude : {accuracy}\")\n",
    "    print(f\"Précision : {precision}\")\n",
    "    print(f\"Rappel : {recall}\")\n",
    "    print(f\"F1-mesure : {f1}\")\n",
    "    print(f\"Temps backtest : {time_RFC_end}\")\n",
    "    #predictions.plot()\n",
    "    \n"
   ]
  },
  {
   "cell_type": "markdown",
   "metadata": {},
   "source": [
    "Deuxième modèle: XGboost"
   ]
  },
  {
   "cell_type": "code",
   "execution_count": 34,
   "metadata": {},
   "outputs": [],
   "source": [
    "def model_XG(sp500):\n",
    "    horizons = [2, 5, 60, 250, 1000]\n",
    "    new_predictors = []\n",
    "\n",
    "    for horizon in horizons:\n",
    "        rolling_averages = sp500.rolling(horizon).mean()\n",
    "        \n",
    "        ratio_column = f\"Close_Ratio_{horizon}\"\n",
    "        sp500[ratio_column] = sp500[\"Close\"] / rolling_averages[\"Close\"]\n",
    "        \n",
    "        trend_column = f\"Trend_{horizon}\"\n",
    "        sp500[trend_column] = sp500.shift(1).rolling(horizon).sum()[\"Target\"]\n",
    "        \n",
    "        new_predictors += [ratio_column, trend_column]\n",
    "        \n",
    "    \n",
    "    sp500 = sp500.dropna(subset=sp500.columns[sp500.columns != \"Tomorrow\"])\n",
    "    model = XGBClassifier(n_estimators=200, min_child_weight=50, random_state=1)\n",
    "    time_XG_start = time.time()\n",
    "    predictions = backtest(sp500, model, new_predictors)\n",
    "    time_XG_end = time.time() - time_XG_start\n",
    "\n",
    "    accuracy = accuracy_score(predictions[\"Target\"], predictions[\"Predictions\"])\n",
    "    precision = precision_score(predictions[\"Target\"], predictions[\"Predictions\"], average='weighted')\n",
    "    recall = recall_score(predictions[\"Target\"], predictions[\"Predictions\"], average='weighted')\n",
    "    f1 = f1_score(predictions[\"Target\"], predictions[\"Predictions\"], average='weighted')\n",
    "    print(f\"Exactitude : {accuracy}\")\n",
    "    print(f\"Précision : {precision}\")\n",
    "    print(f\"Rappel : {recall}\")\n",
    "    print(f\"F1-mesure : {f1}\")\n",
    "    print(f\"Temps backtest : {time_XG_end}\")\n",
    "    \n",
    "    #predictions.plot()"
   ]
  },
  {
   "cell_type": "code",
   "execution_count": 35,
   "metadata": {},
   "outputs": [
    {
     "name": "stdout",
     "output_type": "stream",
     "text": [
      "Modèle RandomForest: \n",
      "Exactitude : 0.4769945124525116\n",
      "Précision : 0.5193135045173146\n",
      "Rappel : 0.4769945124525116\n",
      "F1-mesure : 0.41628329314750157\n",
      "Temps backtest : 112.24589204788208\n"
     ]
    }
   ],
   "source": [
    "print(\"Modèle RandomForest: \")\n",
    "model_RFC(sp500)\n",
    "\n"
   ]
  },
  {
   "cell_type": "code",
   "execution_count": 36,
   "metadata": {},
   "outputs": [
    {
     "name": "stdout",
     "output_type": "stream",
     "text": [
      "Modèle Xgboost: \n",
      "Exactitude : 0.4938792739552554\n",
      "Précision : 0.5126909427010174\n",
      "Rappel : 0.4938792739552554\n",
      "F1-mesure : 0.48435167966593023\n",
      "Temps backtest : 5.712550401687622\n"
     ]
    }
   ],
   "source": [
    "print(\"Modèle Xgboost: \")\n",
    "model_XG(sp500)\n"
   ]
  }
 ],
 "metadata": {
  "kernelspec": {
   "display_name": "Python 3",
   "language": "python",
   "name": "python3"
  },
  "language_info": {
   "codemirror_mode": {
    "name": "ipython",
    "version": 3
   },
   "file_extension": ".py",
   "mimetype": "text/x-python",
   "name": "python",
   "nbconvert_exporter": "python",
   "pygments_lexer": "ipython3",
   "version": "3.11.9"
  }
 },
 "nbformat": 4,
 "nbformat_minor": 2
}
